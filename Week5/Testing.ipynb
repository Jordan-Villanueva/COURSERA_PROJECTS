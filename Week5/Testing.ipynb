{
 "cells": [
  {
   "cell_type": "code",
   "execution_count": 3,
   "id": "28d5e6e2-a7d4-45b3-a0d6-bb1fb87da815",
   "metadata": {
    "tags": []
   },
   "outputs": [
    {
     "ename": "SyntaxError",
     "evalue": "invalid syntax (1773155680.py, line 1)",
     "output_type": "error",
     "traceback": [
      "\u001b[0;36m  Cell \u001b[0;32mIn[3], line 1\u001b[0;36m\u001b[0m\n\u001b[0;31m    python <testing.py>\u001b[0m\n\u001b[0m                       ^\u001b[0m\n\u001b[0;31mSyntaxError\u001b[0m\u001b[0;31m:\u001b[0m invalid syntax\n"
     ]
    }
   ],
   "source": [
    "python <testing.py>"
   ]
  },
  {
   "cell_type": "code",
   "execution_count": 1,
   "id": "f27948a4",
   "metadata": {},
   "outputs": [
    {
     "name": "stdout",
     "output_type": "stream",
     "text": [
      "Requirement already satisfied: dash in /home/jortizvilla/anaconda3/lib/python3.11/site-packages (2.14.2)\n",
      "Requirement already satisfied: Flask<3.1,>=1.0.4 in /home/jortizvilla/anaconda3/lib/python3.11/site-packages (from dash) (2.2.2)\n",
      "Requirement already satisfied: Werkzeug<3.1 in /home/jortizvilla/anaconda3/lib/python3.11/site-packages (from dash) (2.2.3)\n",
      "Requirement already satisfied: plotly>=5.0.0 in /home/jortizvilla/anaconda3/lib/python3.11/site-packages (from dash) (5.9.0)\n",
      "Requirement already satisfied: dash-html-components==2.0.0 in /home/jortizvilla/anaconda3/lib/python3.11/site-packages (from dash) (2.0.0)\n",
      "Requirement already satisfied: dash-core-components==2.0.0 in /home/jortizvilla/anaconda3/lib/python3.11/site-packages (from dash) (2.0.0)\n",
      "Requirement already satisfied: dash-table==5.0.0 in /home/jortizvilla/anaconda3/lib/python3.11/site-packages (from dash) (5.0.0)\n",
      "Requirement already satisfied: typing-extensions>=4.1.1 in /home/jortizvilla/anaconda3/lib/python3.11/site-packages (from dash) (4.7.1)\n",
      "Requirement already satisfied: requests in /home/jortizvilla/anaconda3/lib/python3.11/site-packages (from dash) (2.31.0)\n",
      "Requirement already satisfied: retrying in /home/jortizvilla/anaconda3/lib/python3.11/site-packages (from dash) (1.3.4)\n",
      "Requirement already satisfied: ansi2html in /home/jortizvilla/anaconda3/lib/python3.11/site-packages (from dash) (1.8.0)\n",
      "Requirement already satisfied: nest-asyncio in /home/jortizvilla/anaconda3/lib/python3.11/site-packages (from dash) (1.5.6)\n",
      "Requirement already satisfied: setuptools in /home/jortizvilla/anaconda3/lib/python3.11/site-packages (from dash) (68.0.0)\n",
      "Requirement already satisfied: importlib-metadata in /home/jortizvilla/anaconda3/lib/python3.11/site-packages (from dash) (6.0.0)\n",
      "Requirement already satisfied: Jinja2>=3.0 in /home/jortizvilla/anaconda3/lib/python3.11/site-packages (from Flask<3.1,>=1.0.4->dash) (3.1.2)\n",
      "Requirement already satisfied: itsdangerous>=2.0 in /home/jortizvilla/anaconda3/lib/python3.11/site-packages (from Flask<3.1,>=1.0.4->dash) (2.0.1)\n",
      "Requirement already satisfied: click>=8.0 in /home/jortizvilla/anaconda3/lib/python3.11/site-packages (from Flask<3.1,>=1.0.4->dash) (8.0.4)\n",
      "Requirement already satisfied: tenacity>=6.2.0 in /home/jortizvilla/anaconda3/lib/python3.11/site-packages (from plotly>=5.0.0->dash) (8.2.2)\n",
      "Requirement already satisfied: MarkupSafe>=2.1.1 in /home/jortizvilla/anaconda3/lib/python3.11/site-packages (from Werkzeug<3.1->dash) (2.1.1)\n",
      "Requirement already satisfied: zipp>=0.5 in /home/jortizvilla/anaconda3/lib/python3.11/site-packages (from importlib-metadata->dash) (3.11.0)\n",
      "Requirement already satisfied: charset-normalizer<4,>=2 in /home/jortizvilla/anaconda3/lib/python3.11/site-packages (from requests->dash) (2.0.4)\n",
      "Requirement already satisfied: idna<4,>=2.5 in /home/jortizvilla/anaconda3/lib/python3.11/site-packages (from requests->dash) (3.4)\n",
      "Requirement already satisfied: urllib3<3,>=1.21.1 in /home/jortizvilla/anaconda3/lib/python3.11/site-packages (from requests->dash) (1.26.16)\n",
      "Requirement already satisfied: certifi>=2017.4.17 in /home/jortizvilla/anaconda3/lib/python3.11/site-packages (from requests->dash) (2023.7.22)\n",
      "Requirement already satisfied: six>=1.7.0 in /home/jortizvilla/anaconda3/lib/python3.11/site-packages (from retrying->dash) (1.16.0)\n",
      "Note: you may need to restart the kernel to use updated packages.\n"
     ]
    }
   ],
   "source": [
    "%pip install dash\n",
    "import dash\n",
    "from dash import dcc\n",
    "from dash import html\n",
    "from dash.dependencies import Input, Output\n",
    "import pandas as pd\n",
    "import plotly.graph_objs as go\n",
    "import plotly.express as px\n",
    "\n",
    "# Load the data using pandas\n",
    "data = pd.read_csv('https://cf-courses-data.s3.us.cloud-object-storage.appdomain.cloud/IBMDeveloperSkillsNetwork-DV0101EN-SkillsNetwork/Data%20Files/historical_automobile_sales.csv')\n",
    "\n",
    "# Initialize the Dash app\n",
    "app = dash.Dash(__name__)\n",
    "\n",
    "# Set the title of the dashboard\n",
    "#app.title = \"Automobile Statistics Dashboard\"\n",
    "\n",
    "#---------------------------------------------------------------------------------\n",
    "# Create the dropdown menu options\n",
    "dropdown_options = [\n",
    "    {'label': '...........', 'value': 'Yearly Statistics'},\n",
    "    {'label': 'Recession Period Statistics', 'value': '.........'}\n",
    "]\n",
    "# List of years \n",
    "year_list = [i for i in range(1980, 2024, 1)]"
   ]
  },
  {
   "cell_type": "code",
   "execution_count": 2,
   "id": "e50c5339",
   "metadata": {},
   "outputs": [],
   "source": [
    "# Create the layout of the app\n",
    "app.layout = html.Div([\n",
    "    #TASK 2.1 Add title to the dashboard\n",
    "    html.H1(\" Automobile Sales Statistics Dashboard\"),#May include style for title\n",
    "    html.Div([#TASK 2.2: Add two dropdown menus\n",
    "        html.Label(\"Select Statistics:\"),\n",
    "        dcc.Dropdown(\n",
    "            id='...........',\n",
    "            value='.................',\n",
    "            placeholder='.................'\n",
    "        )\n",
    "    ]),\n",
    "    html.Div(dcc.Dropdown(\n",
    "            id='select-year',\n",
    "            options=[{'label': i, 'value': i} for i in year_list],\n",
    "            value='...................'\n",
    "        )),\n",
    "    html.Div([#TASK 2.3: Add a division for output display\n",
    "    html.Div(id='..........', className='..........', style={}),])\n",
    "])"
   ]
  },
  {
   "cell_type": "code",
   "execution_count": null,
   "id": "244003d3",
   "metadata": {},
   "outputs": [],
   "source": []
  }
 ],
 "metadata": {
  "kernelspec": {
   "display_name": "Python 3 (ipykernel)",
   "language": "python",
   "name": "python3"
  },
  "language_info": {
   "codemirror_mode": {
    "name": "ipython",
    "version": 3
   },
   "file_extension": ".py",
   "mimetype": "text/x-python",
   "name": "python",
   "nbconvert_exporter": "python",
   "pygments_lexer": "ipython3",
   "version": "3.11.5"
  }
 },
 "nbformat": 4,
 "nbformat_minor": 5
}
